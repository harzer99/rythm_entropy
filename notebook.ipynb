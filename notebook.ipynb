{
 "cells": [
  {
   "cell_type": "code",
   "execution_count": 2,
   "metadata": {},
   "outputs": [],
   "source": [
    "from rythm_multicore import analyze_folder, analyze_playlist\n",
    "import numpy as np\n"
   ]
  },
  {
   "cell_type": "code",
   "execution_count": 5,
   "metadata": {},
   "outputs": [
    {
     "name": "stdout",
     "output_type": "stream",
     "text": [
      "Number of Songs: 49.00\n"
     ]
    },
    {
     "data": {
      "application/vnd.jupyter.widget-view+json": {
       "model_id": "bdf7b74802be4606b1a5ad3b559ee7f6",
       "version_major": 2,
       "version_minor": 0
      },
      "text/plain": [
       "  0%|          | 0/49 [00:00<?, ?it/s]"
      ]
     },
     "metadata": {},
     "output_type": "display_data"
    },
    {
     "name": "stdout",
     "output_type": "stream",
     "text": [
      "459.37535512690846\n"
     ]
    }
   ],
   "source": [
    "#techno\n",
    "entropies = analyze_playlist('https://www.youtube.com/watch?v=S83AQhEWmPY&list=PL7eU2Xjx0QsWlmWahShsG1Lm6JfDcskD0&ab_channel=JamesHypeVEVO')\n",
    "mean_entropy = np.average(list(entropies.values()))\n",
    "print(mean_entropy)"
   ]
  },
  {
   "cell_type": "code",
   "execution_count": 16,
   "metadata": {},
   "outputs": [
    {
     "name": "stdout",
     "output_type": "stream",
     "text": [
      "Number of Songs: 44.00\n"
     ]
    },
    {
     "data": {
      "application/vnd.jupyter.widget-view+json": {
       "model_id": "5f851385165c44fbbc1fd81c7bf745f6",
       "version_major": 2,
       "version_minor": 0
      },
      "text/plain": [
       "  0%|          | 0/44 [00:00<?, ?it/s]"
      ]
     },
     "metadata": {},
     "output_type": "display_data"
    },
    {
     "name": "stdout",
     "output_type": "stream",
     "text": [
      "870.9778430788969\n"
     ]
    }
   ],
   "source": [
    "#jazz\n",
    "entropies = analyze_playlist('https://www.youtube.com/watch?v=RZkhCRtdWO8&list=PLPOtzhQJI-KmFnXLkXxJpb3MUdh0T6UxI&ab_channel=DavidSanborn-Topic')\n",
    "mean_entropy = np.average(list(entropies.values()))\n",
    "print(mean_entropy)"
   ]
  },
  {
   "cell_type": "code",
   "execution_count": 8,
   "metadata": {},
   "outputs": [
    {
     "name": "stdout",
     "output_type": "stream",
     "text": [
      "Number of Songs: 20.00\n"
     ]
    },
    {
     "data": {
      "application/vnd.jupyter.widget-view+json": {
       "model_id": "2d5ef633ecf94ad0a83a1465c25ce34f",
       "version_major": 2,
       "version_minor": 0
      },
      "text/plain": [
       "  0%|          | 0/20 [00:00<?, ?it/s]"
      ]
     },
     "metadata": {},
     "output_type": "display_data"
    },
    {
     "name": "stdout",
     "output_type": "stream",
     "text": [
      "801.782233847758\n"
     ]
    }
   ],
   "source": [
    "#funk\n",
    "entropies = analyze_playlist('https://www.youtube.com/playlist?list=PLhftG9klxNY3Xxq7_H--Rk2CYSgGuz9Pt')\n",
    "mean_entropy = np.average(list(entropies.values()))\n",
    "print(mean_entropy)"
   ]
  },
  {
   "cell_type": "code",
   "execution_count": 9,
   "metadata": {},
   "outputs": [
    {
     "name": "stdout",
     "output_type": "stream",
     "text": [
      "Number of Songs: 12.00\n"
     ]
    },
    {
     "data": {
      "application/vnd.jupyter.widget-view+json": {
       "model_id": "d504f49b728a4ba698832bbe05592265",
       "version_major": 2,
       "version_minor": 0
      },
      "text/plain": [
       "  0%|          | 0/12 [00:00<?, ?it/s]"
      ]
     },
     "metadata": {},
     "output_type": "display_data"
    },
    {
     "name": "stdout",
     "output_type": "stream",
     "text": [
      "537.192232200092\n"
     ]
    }
   ],
   "source": [
    "#george lam\n",
    "entropies = analyze_playlist('https://www.youtube.com/playlist?list=PLhftG9klxNY2hA0KupYAsr7hmqmuEMkOS')\n",
    "mean_entropy = np.average(list(entropies.values()))\n",
    "print(mean_entropy)"
   ]
  },
  {
   "cell_type": "code",
   "execution_count": 10,
   "metadata": {},
   "outputs": [
    {
     "name": "stdout",
     "output_type": "stream",
     "text": [
      "Number of Songs: 40.00\n"
     ]
    },
    {
     "data": {
      "application/vnd.jupyter.widget-view+json": {
       "model_id": "e1c9ba90c6a54f539f6f6d08b5ad18b8",
       "version_major": 2,
       "version_minor": 0
      },
      "text/plain": [
       "  0%|          | 0/40 [00:00<?, ?it/s]"
      ]
     },
     "metadata": {},
     "output_type": "display_data"
    },
    {
     "name": "stdout",
     "output_type": "stream",
     "text": [
      "444.9265739821121\n"
     ]
    }
   ],
   "source": [
    "#tech house\n",
    "entropies = analyze_playlist('https://www.youtube.com/watch?v=S83AQhEWmPY&list=PLMmqTuUsDkRLvlVs2j2x58NYfsI7k2cxw&ab_channel=JamesHypeVEVO')\n",
    "mean_entropy = np.average(list(entropies.values()))\n",
    "print(mean_entropy)"
   ]
  },
  {
   "cell_type": "code",
   "execution_count": 13,
   "metadata": {},
   "outputs": [
    {
     "name": "stdout",
     "output_type": "stream",
     "text": [
      "Number of Songs: 50.00\n"
     ]
    },
    {
     "data": {
      "application/vnd.jupyter.widget-view+json": {
       "model_id": "777bf23707094bfe824efbe7dcd639c0",
       "version_major": 2,
       "version_minor": 0
      },
      "text/plain": [
       "  0%|          | 0/50 [00:00<?, ?it/s]"
      ]
     },
     "metadata": {},
     "output_type": "display_data"
    },
    {
     "name": "stdout",
     "output_type": "stream",
     "text": [
      "538.0944569189245\n"
     ]
    }
   ],
   "source": [
    "#schlager\n",
    "entropies = analyze_playlist('https://www.youtube.com/watch?v=J4ragTi792A&list=PLvJG6wQJQ6yTH5fSy2B2z3iehS3VyPid1&ab_channel=SummerfieldRecords')\n",
    "mean_entropy = np.average(list(entropies.values()))\n",
    "print(mean_entropy)"
   ]
  },
  {
   "cell_type": "code",
   "execution_count": 15,
   "metadata": {},
   "outputs": [
    {
     "name": "stdout",
     "output_type": "stream",
     "text": [
      "['https://youtu.be/rrIMuGAZwYc']\n",
      "Number of Songs: 1.00\n"
     ]
    },
    {
     "data": {
      "application/vnd.jupyter.widget-view+json": {
       "model_id": "420e7f384aff48b789bf9ba658ff061d",
       "version_major": 2,
       "version_minor": 0
      },
      "text/plain": [
       "  0%|          | 0/1 [00:00<?, ?it/s]"
      ]
     },
     "metadata": {},
     "output_type": "display_data"
    },
    {
     "name": "stdout",
     "output_type": "stream",
     "text": [
      "single_download/Devil in the Churchyard.webm\n",
      "592.6877448441401\n"
     ]
    }
   ],
   "source": [
    "#Bohemian Rhapsody\n",
    "entropies = analyze_playlist('https://youtu.be/rrIMuGAZwYc', Playlist = False)\n",
    "mean_entropy = np.average(list(entropies.values()))\n",
    "print(mean_entropy)"
   ]
  },
  {
   "cell_type": "code",
   "execution_count": 15,
   "metadata": {},
   "outputs": [
    {
     "name": "stdout",
     "output_type": "stream",
     "text": [
      "Number of Songs: 183.00\n"
     ]
    },
    {
     "data": {
      "application/vnd.jupyter.widget-view+json": {
       "model_id": "6bfd2b69ab654b7583ec0a9be5eb92e8",
       "version_major": 2,
       "version_minor": 0
      },
      "text/plain": [
       "  0%|          | 0/183 [00:00<?, ?it/s]"
      ]
     },
     "metadata": {},
     "output_type": "display_data"
    },
    {
     "name": "stdout",
     "output_type": "stream",
     "text": [
      "724.6757322054341\n"
     ]
    }
   ],
   "source": [
    "#indierock\n",
    "entropies = analyze_playlist('https://www.youtube.com/watch?v=ft56il9bGMk&list=PLEXox2R2RxZLF0n8tVHnv7PtFtxQLElt1&ab_channel=UPROXXIndieMixtape')\n",
    "mean_entropy = np.average(list(entropies.values()))\n",
    "print(mean_entropy)"
   ]
  },
  {
   "cell_type": "code",
   "execution_count": 12,
   "metadata": {},
   "outputs": [
    {
     "name": "stdout",
     "output_type": "stream",
     "text": [
      "['https://www.youtube.com/watch?v=dE9__9pzr4Q&ab_channel=PierreRichard']\n",
      "Number of Songs: 1.00\n"
     ]
    },
    {
     "data": {
      "application/vnd.jupyter.widget-view+json": {
       "model_id": "627a969d5ed44d469350b61a4d81d48d",
       "version_major": 2,
       "version_minor": 0
      },
      "text/plain": [
       "  0%|          | 0/1 [00:00<?, ?it/s]"
      ]
     },
     "metadata": {},
     "output_type": "display_data"
    },
    {
     "name": "stdout",
     "output_type": "stream",
     "text": [
      "single_download/James Mason - Sweet Power Your Embrace.webm\n",
      "1027.503340293795\n"
     ]
    }
   ],
   "source": [
    "#sweet power\n",
    "entropies = analyze_playlist('https://www.youtube.com/watch?v=dE9__9pzr4Q&ab_channel=PierreRichard', False)\n",
    "mean_entropy = np.average(list(entropies.values()))\n",
    "print(mean_entropy)"
   ]
  },
  {
   "cell_type": "code",
   "execution_count": 27,
   "metadata": {},
   "outputs": [
    {
     "name": "stdout",
     "output_type": "stream",
     "text": [
      "['https://www.youtube.com/watch?v=Gu77Vtja30c&ab_channel=HDclassical']\n",
      "Number of Songs: 1.00\n"
     ]
    },
    {
     "data": {
      "application/vnd.jupyter.widget-view+json": {
       "model_id": "794d62e904a64e94ad2ba72a8c301c82",
       "version_major": 2,
       "version_minor": 0
      },
      "text/plain": [
       "  0%|          | 0/1 [00:00<?, ?it/s]"
      ]
     },
     "metadata": {},
     "output_type": "display_data"
    },
    {
     "name": "stdout",
     "output_type": "stream",
     "text": [
      "single_download/Gustav Holst - Jupiter.webm\n",
      "1470.6737237357725\n"
     ]
    }
   ],
   "source": [
    "#metronome\n",
    "entropies = analyze_playlist('https://www.youtube.com/watch?v=Gu77Vtja30c&ab_channel=HDclassical',Playlist= False)\n",
    "mean_entropy = np.average(list(entropies.values()))\n",
    "print(mean_entropy)"
   ]
  },
  {
   "cell_type": "code",
   "execution_count": 3,
   "metadata": {},
   "outputs": [
    {
     "name": "stdout",
     "output_type": "stream",
     "text": [
      "Number of Songs: 29.00\n"
     ]
    },
    {
     "data": {
      "application/vnd.jupyter.widget-view+json": {
       "model_id": "ee46885939494279926a1e7a368bfcf2",
       "version_major": 2,
       "version_minor": 0
      },
      "text/plain": [
       "  0%|          | 0/29 [00:00<?, ?it/s]"
      ]
     },
     "metadata": {},
     "output_type": "display_data"
    },
    {
     "name": "stdout",
     "output_type": "stream",
     "text": [
      "390.3868019110728\n"
     ]
    }
   ],
   "source": [
    "\n",
    "#metronome\n",
    "entropies = analyze_playlist('https://www.youtube.com/watch?v=wz5VUsczpFk&list=PLV-yCu-e-Fy2WbYT64Uv5coXjeUADTiCd&ab_channel=HGich.T',Playlist= True)\n",
    "mean_entropy = np.average(list(entropies.values()))\n",
    "print(mean_entropy)"
   ]
  },
  {
   "cell_type": "code",
   "execution_count": 10,
   "metadata": {},
   "outputs": [
    {
     "name": "stderr",
     "output_type": "stream",
     "text": [
      "c:\\ProgramData\\Anaconda3\\lib\\site-packages\\matplotlib\\cbook\\__init__.py:1298: ComplexWarning: Casting complex values to real discards the imaginary part\n",
      "  return np.asarray(x, float)\n"
     ]
    },
    {
     "data": {
      "image/png": "[encoded data removed]",
      "text/plain": [
       "<Figure size 640x480 with 1 Axes>"
      ]
     },
     "metadata": {},
     "output_type": "display_data"
    }
   ],
   "source": [
    "import librosa\n",
    "import matplotlib.pyplot as plt\n",
    "audio, sr = librosa.load('single_download/180 BPM - Metronome.webm', mono = True)\n",
    "audio = audio[::2]\n",
    "cutoff = 10\n",
    "start =0.1\n",
    "transformed = np.fft.rfft(audio)\n",
    "cutoff_index = int(cutoff/sr*len(audio))\n",
    "start_index = int(start/sr*len(audio))\n",
    "transformed = transformed[start_index:cutoff_index]\n",
    "normalization = max(np.abs(transformed))\n",
    "f = np.linspace(start, cutoff, len(transformed))\n",
    "plt.plot(f, transformed)\n",
    "plt.show()"
   ]
  }
 ],
 "metadata": {
  "kernelspec": {
   "display_name": "base",
   "language": "python",
   "name": "python3"
  },
  "language_info": {
   "codemirror_mode": {
    "name": "ipython",
    "version": 3
   },
   "file_extension": ".py",
   "mimetype": "text/x-python",
   "name": "python",
   "nbconvert_exporter": "python",
   "pygments_lexer": "ipython3",
   "version": "3.9.13"
  },
  "orig_nbformat": 4
 },
 "nbformat": 4,
 "nbformat_minor": 2
}
